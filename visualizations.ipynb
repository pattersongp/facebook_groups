{
 "cells": [
  {
   "cell_type": "code",
   "execution_count": 56,
   "metadata": {
    "collapsed": false
   },
   "outputs": [],
   "source": [
    "import os\n",
    "import pandas as pd\n",
    "from tqdm import tqdm\n",
    "import ast\n",
    "from datetime import datetime as dt\n",
    "import matplotlib.dates as mdates\n",
    "import matplotlib.cbook as cbook\n",
    "import matplotlib.pyplot as plt\n",
    "import plotly.plotly as py\n",
    "import plotly\n",
    "import igraph as ig\n",
    "import plotly.graph_objs as go\n",
    "import numpy as np\n",
    "\n",
    "USERNAME = 'pattersongp'\n",
    "API_KEY = 'VVZGgCcQVs2EkznPaIY3'\n",
    "plotly.tools.set_credentials_file(username=USERNAME, api_key=API_KEY)\n",
    "\n",
    "%matplotlib inline"
   ]
  },
  {
   "cell_type": "code",
   "execution_count": 57,
   "metadata": {
    "collapsed": false
   },
   "outputs": [],
   "source": [
    "df=pd.DataFrame.from_csv('./data/restricted/featured_data.csv')\n",
    "df['poster'] = df['poster'].apply(lambda x: ast.literal_eval(x))\n",
    "df['reactions'] = df['reactions'].apply(lambda x: ast.literal_eval(x))\n",
    "df['comments'] = df['comments'].apply(lambda x: ast.literal_eval(x))"
   ]
  },
  {
   "cell_type": "markdown",
   "metadata": {},
   "source": [
    "### Plotting activity over time"
   ]
  },
  {
   "cell_type": "code",
   "execution_count": 61,
   "metadata": {
    "collapsed": false,
    "scrolled": false
   },
   "outputs": [
    {
     "data": {
      "text/html": [
       "<iframe id=\"igraph\" scrolling=\"no\" style=\"border:none;\" seamless=\"seamless\" src=\"https://plot.ly/~pattersongp/15.embed\" height=\"525px\" width=\"100%\"></iframe>"
      ],
      "text/plain": [
       "<plotly.tools.PlotlyDisplay object>"
      ]
     },
     "execution_count": 61,
     "metadata": {},
     "output_type": "execute_result"
    }
   ],
   "source": [
    "plot = df.copy()\n",
    "plot = plot[['post_time','activity']]\n",
    "plot['post_time'] = pd.to_datetime(plot['post_time'])\n",
    "plot = plot.set_index('post_time')\n",
    "x=plot.index\n",
    "y=plot[plot['activity']>0]\n",
    "\n",
    "# Plotly scatter plot\n",
    "trace = go.Scattergl(\n",
    "    x = x,\n",
    "    y = y['activity'],\n",
    "    mode = 'markers',\n",
    "    marker = dict(\n",
    "        color = '#FFBAD2',\n",
    "        line = dict(width = 1)\n",
    "    )\n",
    ")\n",
    "layout= go.Layout (\n",
    "    title=\"Post Activity for All Posts\",\n",
    "    xaxis = dict(\n",
    "        title='Time'\n",
    "    ),\n",
    "    yaxis = dict(\n",
    "        title='Activity'\n",
    "    ),\n",
    ")\n",
    "\n",
    "data = [trace]\n",
    "fig = go.Figure(data=data, layout=layout)\n",
    "py.iplot(fig, filename='activity_scatter_byPost')"
   ]
  },
  {
   "cell_type": "markdown",
   "metadata": {},
   "source": [
    "#### Looks a bit dense, so group it by week to thin it out a bit"
   ]
  },
  {
   "cell_type": "code",
   "execution_count": 60,
   "metadata": {
    "collapsed": false
   },
   "outputs": [
    {
     "data": {
      "text/html": [
       "<iframe id=\"igraph\" scrolling=\"no\" style=\"border:none;\" seamless=\"seamless\" src=\"https://plot.ly/~pattersongp/17.embed\" height=\"525px\" width=\"100%\"></iframe>"
      ],
      "text/plain": [
       "<plotly.tools.PlotlyDisplay object>"
      ]
     },
     "execution_count": 60,
     "metadata": {},
     "output_type": "execute_result"
    }
   ],
   "source": [
    "# Group by week\n",
    "month_groups = plot.groupby(pd.TimeGrouper(freq='W')).count()\n",
    "\n",
    "x=month_groups.index\n",
    "y=month_groups['activity']\n",
    "\n",
    "# Plotly scatter plot\n",
    "trace = go.Scattergl(\n",
    "    x = x,\n",
    "    y = y,\n",
    "    mode = 'markers',\n",
    "    marker = dict(\n",
    "        color = '#FFBAD2',\n",
    "        line = dict(width = 1)\n",
    "    )\n",
    ")\n",
    "layout= go.Layout (\n",
    "    title=\"Activity Grouped by Week\",\n",
    "    xaxis = dict(\n",
    "        title='Time'\n",
    "    ),\n",
    "    yaxis = dict(\n",
    "        title='Activity'\n",
    "    ),\n",
    ")\n",
    "\n",
    "data = [trace]\n",
    "fig = go.Figure(data=data, layout=layout)\n",
    "py.iplot(fig, filename='activity_scatter_byWeek')"
   ]
  },
  {
   "cell_type": "code",
   "execution_count": 54,
   "metadata": {
    "collapsed": false,
    "scrolled": false
   },
   "outputs": [
    {
     "data": {
      "text/html": [
       "<iframe id=\"igraph\" scrolling=\"no\" style=\"border:none;\" seamless=\"seamless\" src=\"https://plot.ly/~pattersongp/13.embed\" height=\"525px\" width=\"100%\"></iframe>"
      ],
      "text/plain": [
       "<plotly.tools.PlotlyDisplay object>"
      ]
     },
     "execution_count": 54,
     "metadata": {},
     "output_type": "execute_result"
    }
   ],
   "source": [
    "import datetime\n",
    "\n",
    "days = {\n",
    "    0:\"Sunday\",\n",
    "    1:\"Monday\",\n",
    "    2:\"Tuesday\",\n",
    "    3:\"Wedneday\",\n",
    "    4:\"Thursday\",\n",
    "    5:\"Friday\",\n",
    "    6:\"Saturday\"\n",
    "}\n",
    "df_days=pd.DataFrame.from_dict(days,orient='index')\n",
    "df_days['number']=df_days.index\n",
    "df_days=df_days.set_index(0)\n",
    "\n",
    "# Map the days of the week\n",
    "def week_day(x):\n",
    "    return days[datetime.datetime.strptime(x,'%Y-%m-%d').weekday()]\n",
    "\n",
    "plot = df.copy()[['post_time','activity']]\n",
    "plot['post_time'] = plot['post_time'].apply(lambda x: week_day(x))\n",
    "\n",
    "# Group by day of the week\n",
    "day_groups = plot.groupby(plot.post_time).count()\n",
    "day_groups = df_days.join(day_groups)\n",
    "day_groups.sort_values(by='number')\n",
    "\n",
    "# Plot the chart, make it nice\n",
    "x = day_groups.index\n",
    "y = day_groups['activity']\n",
    "trace = go.Scatter(\n",
    "    x = x,\n",
    "    y = y,\n",
    "    mode = 'markers',\n",
    "    marker = dict(\n",
    "        size = np.sqrt(day_groups['activity']),\n",
    "        color = '#FFBAD2',\n",
    "        line = dict(width = 1)\n",
    "    )\n",
    ")\n",
    "layout= go.Layout (\n",
    "    title=\"Activity per Day\",\n",
    "    xaxis = dict(\n",
    "        title='Day of Week'\n",
    "    ),\n",
    "    yaxis = dict(\n",
    "        title='Activity'\n",
    "    ),\n",
    ")\n",
    "\n",
    "data = [trace]\n",
    "fig = go.Figure(data=data, layout=layout)\n",
    "py.iplot(fig, filename='activity_scatter_byDayOfWeek')"
   ]
  },
  {
   "cell_type": "code",
   "execution_count": 53,
   "metadata": {
    "collapsed": false,
    "scrolled": false
   },
   "outputs": [
    {
     "data": {
      "text/html": [
       "<iframe id=\"igraph\" scrolling=\"no\" style=\"border:none;\" seamless=\"seamless\" src=\"https://plot.ly/~pattersongp/19.embed\" height=\"525px\" width=\"100%\"></iframe>"
      ],
      "text/plain": [
       "<plotly.tools.PlotlyDisplay object>"
      ]
     },
     "execution_count": 53,
     "metadata": {},
     "output_type": "execute_result"
    }
   ],
   "source": [
    "emojis = pd.DataFrame.from_csv('./data/emoji_data.csv')\n",
    "emojis = emojis.head(10)\n",
    "# Plot the chart, make it nice\n",
    "x = emojis.index\n",
    "y = emojis['count']\n",
    "\n",
    "trace = go.Scatter(\n",
    "    x = x,\n",
    "    y = y,\n",
    "    mode = 'markers',\n",
    "    marker = dict(\n",
    "        size = emojis['count'],\n",
    "        color = '#FFBAD2',\n",
    "        line = dict(width = 1)\n",
    "    )\n",
    ")\n",
    "\n",
    "layout = go.Layout (\n",
    "    title=\"Top Ten Emojis\",\n",
    "    hovermode=False,\n",
    "    yaxis=dict(\n",
    "        title='Usage'\n",
    "    ),\n",
    "    xaxis=dict(\n",
    "        title='Emoji'\n",
    "    ),\n",
    "    showlegend=False\n",
    ")\n",
    "\n",
    "data = [trace]\n",
    "figure = go.Figure(data=data, layout=layout)\n",
    "py.iplot(figure,filename='emoji_scatter')"
   ]
  },
  {
   "cell_type": "code",
   "execution_count": 48,
   "metadata": {
    "collapsed": false
   },
   "outputs": [
    {
     "data": {
      "text/html": [
       "<iframe id=\"igraph\" scrolling=\"no\" style=\"border:none;\" seamless=\"seamless\" src=\"https://plot.ly/~pattersongp/22.embed\" height=\"525px\" width=\"100%\"></iframe>"
      ],
      "text/plain": [
       "<plotly.tools.PlotlyDisplay object>"
      ]
     },
     "execution_count": 48,
     "metadata": {},
     "output_type": "execute_result"
    }
   ],
   "source": [
    "data = [\n",
    "    go.Scatter(                         # all \"scatter\" attributes: https://plot.ly/python/reference/#scatter\n",
    "        x=[1, 2, 3],                    # more about \"x\":  /python/reference/#scatter-x\n",
    "        y=[3, 1, 6],                    # more about \"y\":  /python/reference/#scatter-y\n",
    "        marker=dict(                    # marker is an dict, marker keys: /python/reference/#scatter-marker\n",
    "            color=\"rgb(16, 32, 77)\"     # more about marker's \"color\": /python/reference/#scatter-marker-color\n",
    "        )\n",
    "    ),\n",
    "    go.Bar(                         # all \"bar\" chart attributes: /python/reference/#bar\n",
    "        x=[1, 2, 3],                # more about \"x\": /python/reference/#bar-x\n",
    "        y=[3, 1, 6],                # /python/reference/#bar-y\n",
    "        name=\"bar chart example\"    # /python/reference/#bar-name\n",
    "    )\n",
    "]\n",
    "\n",
    "layout = go.Layout(             # all \"layout\" attributes: /python/reference/#layout\n",
    "    title=\"simple example\",     # more about \"layout's\" \"title\": /python/reference/#layout-title\n",
    "    xaxis=dict(                 # all \"layout's\" \"xaxis\" attributes: /python/reference/#layout-xaxis\n",
    "        title=\"time\"            # more about \"layout's\" \"xaxis's\" \"title\": /python/reference/#layout-xaxis-title\n",
    "    )\n",
    ")\n",
    "\n",
    "figure = go.Figure(data=data, layout=layout)\n",
    "\n",
    "py.iplot(figure, filename='reference-graph')"
   ]
  },
  {
   "cell_type": "code",
   "execution_count": null,
   "metadata": {
    "collapsed": true
   },
   "outputs": [],
   "source": []
  }
 ],
 "metadata": {
  "anaconda-cloud": {},
  "kernelspec": {
   "display_name": "Python [default]",
   "language": "python",
   "name": "python3"
  },
  "language_info": {
   "codemirror_mode": {
    "name": "ipython",
    "version": 3
   },
   "file_extension": ".py",
   "mimetype": "text/x-python",
   "name": "python",
   "nbconvert_exporter": "python",
   "pygments_lexer": "ipython3",
   "version": "3.5.2"
  }
 },
 "nbformat": 4,
 "nbformat_minor": 1
}
